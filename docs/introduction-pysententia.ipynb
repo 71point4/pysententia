{
 "cells": [
  {
   "cell_type": "markdown",
   "source": [
    "# Introduction to pysententia"
   ],
   "metadata": {}
  },
  {
   "cell_type": "markdown",
   "source": [
    "[Sententia](https://github.com/71point4/pysententia) provides access to\n",
    "media sentiment data from the Bureau for Economic research.\n",
    "\n",
    "The homepage for the {sententia} R package is at\n",
    "<https://github.com/71point4/pysententia>."
   ],
   "metadata": {}
  },
  {
   "cell_type": "markdown",
   "source": [
    "Install from GitHub."
   ],
   "metadata": {}
  },
  {
   "cell_type": "code",
   "execution_count": null,
   "source": [
    "!pip install git+https://github.com/71point4/pysententia"
   ],
   "outputs": [],
   "metadata": {}
  },
  {
   "cell_type": "markdown",
   "source": [
    "## Set the API Key"
   ],
   "metadata": {}
  },
  {
   "cell_type": "markdown",
   "source": [
    "To access the API you’ll need to first specify an API key as provided to\n",
    "you by the BER."
   ],
   "metadata": {}
  },
  {
   "cell_type": "code",
   "execution_count": 2,
   "source": [
    "import os"
   ],
   "outputs": [],
   "metadata": {}
  },
  {
   "cell_type": "code",
   "execution_count": 4,
   "source": [
    "key = os.getenv('SENTENTIA_KEY')"
   ],
   "outputs": [],
   "metadata": {}
  },
  {
   "cell_type": "markdown",
   "source": [
    "## The API interface\n",
    "\n",
    "Besides providing sentiment calculations from different word-list\n",
    "dictionaries, the API interface provides access to the various\n",
    "permutations that is available in calculating a sentiment score (Within\n",
    "text and across time):\n",
    "\n",
    "<img src=\"docs/figures/aggregations.png\" width=\"1236\" style=\"display: block; margin: auto;\" />\n",
    "\n",
    "-   Sentiment calculation `WITHIN` the article\n",
    "    -   In the API this is set by the `aggr` parameter\n",
    "-   Sentiment calculation `ACCROSS` a time period\n",
    "    -   This does not need to be set. API returns four aggregations:\n",
    "        -   `mean_sentiment`\n",
    "        -   `relative`\n",
    "        -   `absolute`\n",
    "        -   `sent_log`"
   ],
   "metadata": {}
  },
  {
   "cell_type": "markdown",
   "source": [
    "# Usage"
   ],
   "metadata": {}
  },
  {
   "cell_type": "code",
   "execution_count": 7,
   "source": [
    "from pysententia import Sententia"
   ],
   "outputs": [
    {
     "output_type": "error",
     "ename": "ModuleNotFoundError",
     "evalue": "No module named 'pysententia'",
     "traceback": [
      "\u001b[0;31m---------------------------------------------------------------------------\u001b[0m",
      "\u001b[0;31mModuleNotFoundError\u001b[0m                       Traceback (most recent call last)",
      "\u001b[0;32m/tmp/ipykernel_13288/3801258457.py\u001b[0m in \u001b[0;36m<module>\u001b[0;34m\u001b[0m\n\u001b[0;32m----> 1\u001b[0;31m \u001b[0;32mfrom\u001b[0m \u001b[0mpysententia\u001b[0m \u001b[0;32mimport\u001b[0m \u001b[0mSententia\u001b[0m\u001b[0;34m\u001b[0m\u001b[0;34m\u001b[0m\u001b[0m\n\u001b[0m",
      "\u001b[0;31mModuleNotFoundError\u001b[0m: No module named 'pysententia'"
     ]
    }
   ],
   "metadata": {}
  },
  {
   "cell_type": "code",
   "execution_count": null,
   "source": [
    "sent = Sententia(key = key)"
   ],
   "outputs": [],
   "metadata": {}
  },
  {
   "cell_type": "markdown",
   "source": [
    "## Sentiment Index\n",
    "\n",
    "Get media sentiment index values for specified media source, model,\n",
    "topic, dictionary, frequency, and aggregation method combination."
   ],
   "metadata": {}
  },
  {
   "cell_type": "code",
   "execution_count": null,
   "source": [
    "sent.sent_index(\n",
    "   source = \"businessday\",\n",
    "   model = \"model_2021-05-15\",\n",
    "   topic = \"global\",\n",
    "   freq = \"month\",\n",
    "   dict = \"loughran\",\n",
    "   aggr = \"sent_logit\"\n",
    "   )\n"
   ],
   "outputs": [],
   "metadata": {}
  },
  {
   "cell_type": "markdown",
   "source": [
    "## Count of articles that make up sentiment\n",
    "\n",
    "Get a count of the number of articles for a specified media source,\n",
    "model, topic, and frequency of aggregation."
   ],
   "metadata": {}
  },
  {
   "cell_type": "code",
   "execution_count": null,
   "source": [
    "sent.sent_counts(\n",
    "   source = \"all\",\n",
    "   model = \"model_2021-05-15\",\n",
    "   topic = \"global\",\n",
    "   freq = \"week\"\n",
    "   )"
   ],
   "outputs": [],
   "metadata": {}
  },
  {
   "cell_type": "markdown",
   "source": [
    "## Date polarity\n",
    "\n",
    "Get a count of the number of positive and negative articles for a\n",
    "specified model, topic, dictionary, aggregation method, and frequency."
   ],
   "metadata": {}
  },
  {
   "cell_type": "code",
   "execution_count": null,
   "source": [
    "sent.sent_date_polarity(\n",
    "   source = \"all\",\n",
    "   model = \"model_2021-05-15\",\n",
    "   topic = \"global\",\n",
    "   freq = \"week\",\n",
    "   dict = \"loughran\",\n",
    "   aggr = \"sent_logit\"\n",
    "   )"
   ],
   "outputs": [],
   "metadata": {}
  },
  {
   "cell_type": "markdown",
   "source": [
    "\n",
    "## Word polarity\n",
    "\n",
    "Get the top 50 most frequently occurring positive and negative words for\n",
    "a specified model, topic, dictionary, aggregation method, and frequency.\n",
    "The timeframe over which these words are selected depends on the\n",
    "specified frequency (day = 30 days, week = 3 months, month = 6 months)."
   ],
   "metadata": {}
  },
  {
   "cell_type": "code",
   "execution_count": null,
   "source": [
    "sent.sent_word_polarity(\n",
    "   source = \"all\",\n",
    "   model = \"model_2021-05-15\",\n",
    "   topic = \"economy\",\n",
    "   freq = \"month\",\n",
    "   dict = \"loughran\"\n",
    "   )"
   ],
   "outputs": [],
   "metadata": {}
  },
  {
   "cell_type": "markdown",
   "source": [
    "# Plotting"
   ],
   "metadata": {}
  },
  {
   "cell_type": "code",
   "execution_count": null,
   "source": [
    "from pysententia import Sententia\n",
    "import matplotlib.pyplot as plt\n",
    "sent = sententia(key = '700ce27d55e27922a39232f8403602ba')\n",
    "\n",
    "sent_out = sent.sent_index( \n",
    "   source = \"businessday\", \n",
    "   model = \"model_2021-05-15\", \n",
    "   topic = \"global\", \n",
    "   freq = \"month\", \n",
    "   dict = \"loughran\", \n",
    "   aggr = \"sent_logit\" \n",
    "   ) \n",
    "\n",
    "out = sent_out[['published_date', 'sent_log']]\n",
    "out.plot(x = \"published_date\", y = \"sent_log\")\n",
    "# plt.show()\n",
    "\n",
    "count_out = sent.sent_counts( \n",
    "   source = \"businessday\", \n",
    "   model = \"model_2021-05-15\", \n",
    "   topic = \"global\", \n",
    "   freq = \"month\"\n",
    "   ) \n",
    "\n",
    "out = count_out[['published_date', 'article_count']]\n",
    "out.plot(x = \"published_date\", y = \"article_count\")\n",
    "# plt.show()\n"
   ],
   "outputs": [],
   "metadata": {}
  }
 ],
 "metadata": {
  "kernelspec": {
   "name": "python3",
   "display_name": "Python 3.8.5 64-bit ('easynmt': virtualenv)"
  },
  "language_info": {
   "codemirror_mode": {
    "name": "ipython",
    "version": 3
   },
   "file_extension": ".py",
   "mimetype": "text/x-python",
   "name": "python",
   "nbconvert_exporter": "python",
   "pygments_lexer": "ipython3",
   "version": "3.8.5"
  },
  "interpreter": {
   "hash": "b6a4c8727f1eb789113c024f9a77bd668eb5320fdd0c4b5ec5eb399fb6e39d1f"
  }
 },
 "nbformat": 4,
 "nbformat_minor": 4
}